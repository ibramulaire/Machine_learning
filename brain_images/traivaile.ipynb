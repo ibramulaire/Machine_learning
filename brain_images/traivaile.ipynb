{
 "cells": [
  {
   "cell_type": "code",
   "execution_count": 1,
   "metadata": {},
   "outputs": [],
   "source": [
    "import SimpleITK as sitk\n",
    "import sys\n",
    "import os\n",
    "\n",
    "import numpy as np\n"
   ]
  },
  {
   "cell_type": "markdown",
   "metadata": {},
   "source": [
    "Methode de recalage baser sur une metric de correlation entre les pixels.\n",
    "Les transformation sont affine et préserve les distances, les angles. Il s'agit de rotations,de mise a l'echelle et de translations.\n",
    "\n",
    "Cette mesure de similarité été choisie car il marche bien pour tous les cas.\n",
    "Le Mean Squares Error fonctionne bien pour l'image 2 mais pas le reste.\n",
    "\n",
    "\n",
    "\n",
    "L'optimizer est une descente de gradient. "
   ]
  },
  {
   "cell_type": "code",
   "execution_count": 16,
   "metadata": {},
   "outputs": [],
   "source": [
    "def recaler(numimg):\n",
    "    name=\"brain1.png\"\n",
    "    namem=\"brain\"+str(numimg)+\".png\"\n",
    "    n=1\n",
    "    nm=numimg\n",
    "    pixelType = sitk.sitkFloat32\n",
    "    \n",
    "    fixed = sitk.ReadImage(name, sitk.sitkFloat32)\n",
    "    moving = sitk.ReadImage(namem, sitk.sitkFloat32)\n",
    "\n",
    "    R = sitk.ImageRegistrationMethod()\n",
    "    R.SetMetricAsCorrelation()\n",
    "    R.SetOptimizerAsRegularStepGradientDescent(\n",
    "        learningRate=2.0,\n",
    "        minStep=1e-4,\n",
    "        numberOfIterations=500,\n",
    "        gradientMagnitudeTolerance=1e-8,\n",
    "    )\n",
    "    R.SetOptimizerScalesFromIndexShift()\n",
    "\n",
    "    tx = sitk.CenteredTransformInitializer(fixed, moving, sitk.Similarity2DTransform())\n",
    "    R.SetInitialTransform(tx)\n",
    "    R.SetInterpolator(sitk.sitkLinear)\n",
    "\n",
    "    outTx = R.Execute(fixed, moving)\n",
    "\n",
    "    if \"SITK_NOSHOW\" not in os.environ:\n",
    "        resampler = sitk.ResampleImageFilter()\n",
    "        resampler.SetReferenceImage(fixed)\n",
    "        resampler.SetInterpolator(sitk.sitkLinear)\n",
    "        resampler.SetDefaultPixelValue(1)\n",
    "        resampler.SetTransform(outTx)\n",
    "        out = resampler.Execute(moving)\n",
    "        \n",
    "        simg1 = sitk.Cast(sitk.RescaleIntensity(fixed), sitk.sitkUInt8)\n",
    "        simg2 = sitk.Cast(sitk.RescaleIntensity(out), sitk.sitkUInt8)\n",
    "        cimg = sitk.Compose(simg1, simg2, simg1 // 2.0 + simg2 // 2.0)\n",
    "\n",
    "    writer = sitk.ImageFileWriter()\n",
    "    writer.SetFileName(\"img\"+str(n)+str(nm)+\".png\")\n",
    "    writer.Execute(cimg)"
   ]
  },
  {
   "cell_type": "code",
   "execution_count": 17,
   "metadata": {},
   "outputs": [
    {
     "name": "stderr",
     "output_type": "stream",
     "text": [
      "libpng warning: iCCP: profile 'Photoshop ICC profile': 'GRAY': Gray color space not permitted on RGB PNG\n",
      "libpng warning: iCCP: profile 'Photoshop ICC profile': 'GRAY': Gray color space not permitted on RGB PNG\n",
      "libpng warning: iCCP: profile 'Photoshop ICC profile': 'GRAY': Gray color space not permitted on RGB PNG\n",
      "libpng warning: iCCP: profile 'Photoshop ICC profile': 'GRAY': Gray color space not permitted on RGB PNG\n",
      "libpng warning: iCCP: profile 'Photoshop ICC profile': 'GRAY': Gray color space not permitted on RGB PNG\n",
      "libpng warning: iCCP: profile 'Photoshop ICC profile': 'GRAY': Gray color space not permitted on RGB PNG\n",
      "libpng warning: iCCP: profile 'Photoshop ICC profile': 'GRAY': Gray color space not permitted on RGB PNG\n",
      "libpng warning: iCCP: profile 'Photoshop ICC profile': 'GRAY': Gray color space not permitted on RGB PNG\n",
      "libpng warning: iCCP: profile 'Photoshop ICC profile': 'GRAY': Gray color space not permitted on RGB PNG\n",
      "libpng warning: iCCP: profile 'Photoshop ICC profile': 'GRAY': Gray color space not permitted on RGB PNG\n",
      "libpng warning: iCCP: profile 'Photoshop ICC profile': 'GRAY': Gray color space not permitted on RGB PNG\n",
      "libpng warning: iCCP: profile 'Photoshop ICC profile': 'GRAY': Gray color space not permitted on RGB PNG\n",
      "libpng warning: iCCP: profile 'Photoshop ICC profile': 'GRAY': Gray color space not permitted on RGB PNG\n",
      "libpng warning: iCCP: profile 'Photoshop ICC profile': 'GRAY': Gray color space not permitted on RGB PNG\n",
      "libpng warning: iCCP: profile 'Photoshop ICC profile': 'GRAY': Gray color space not permitted on RGB PNG\n",
      "libpng warning: iCCP: profile 'Photoshop ICC profile': 'GRAY': Gray color space not permitted on RGB PNG\n",
      "libpng warning: iCCP: profile 'Photoshop ICC profile': 'GRAY': Gray color space not permitted on RGB PNG\n",
      "libpng warning: iCCP: profile 'Photoshop ICC profile': 'GRAY': Gray color space not permitted on RGB PNG\n"
     ]
    }
   ],
   "source": [
    "recaler(2)\n",
    "recaler(3)\n",
    "recaler(4)"
   ]
  }
 ],
 "metadata": {
  "kernelspec": {
   "display_name": "Python 3.10.6 64-bit",
   "language": "python",
   "name": "python3"
  },
  "language_info": {
   "codemirror_mode": {
    "name": "ipython",
    "version": 3
   },
   "file_extension": ".py",
   "mimetype": "text/x-python",
   "name": "python",
   "nbconvert_exporter": "python",
   "pygments_lexer": "ipython3",
   "version": "3.10.6"
  },
  "orig_nbformat": 4,
  "vscode": {
   "interpreter": {
    "hash": "916dbcbb3f70747c44a77c7bcd40155683ae19c65e1c03b4aa3499c5328201f1"
   }
  }
 },
 "nbformat": 4,
 "nbformat_minor": 2
}
