{
 "cells": [
  {
   "cell_type": "code",
   "execution_count": 1,
   "metadata": {},
   "outputs": [
    {
     "name": "stderr",
     "output_type": "stream",
     "text": [
      "2023-01-06 16:21:34.801036: I tensorflow/core/platform/cpu_feature_guard.cc:193] This TensorFlow binary is optimized with oneAPI Deep Neural Network Library (oneDNN) to use the following CPU instructions in performance-critical operations:  AVX2 AVX512F AVX512_VNNI FMA\n",
      "To enable them in other operations, rebuild TensorFlow with the appropriate compiler flags.\n",
      "2023-01-06 16:21:35.125398: I tensorflow/core/util/port.cc:104] oneDNN custom operations are on. You may see slightly different numerical results due to floating-point round-off errors from different computation orders. To turn them off, set the environment variable `TF_ENABLE_ONEDNN_OPTS=0`.\n",
      "2023-01-06 16:21:35.129618: W tensorflow/compiler/xla/stream_executor/platform/default/dso_loader.cc:64] Could not load dynamic library 'libcudart.so.11.0'; dlerror: libcudart.so.11.0: cannot open shared object file: No such file or directory\n",
      "2023-01-06 16:21:35.129658: I tensorflow/compiler/xla/stream_executor/cuda/cudart_stub.cc:29] Ignore above cudart dlerror if you do not have a GPU set up on your machine.\n",
      "2023-01-06 16:21:35.955723: W tensorflow/compiler/xla/stream_executor/platform/default/dso_loader.cc:64] Could not load dynamic library 'libnvinfer.so.7'; dlerror: libnvinfer.so.7: cannot open shared object file: No such file or directory\n",
      "2023-01-06 16:21:35.955898: W tensorflow/compiler/xla/stream_executor/platform/default/dso_loader.cc:64] Could not load dynamic library 'libnvinfer_plugin.so.7'; dlerror: libnvinfer_plugin.so.7: cannot open shared object file: No such file or directory\n",
      "2023-01-06 16:21:35.955910: W tensorflow/compiler/tf2tensorrt/utils/py_utils.cc:38] TF-TRT Warning: Cannot dlopen some TensorRT libraries. If you would like to use Nvidia GPU with TensorRT, please make sure the missing libraries mentioned above are installed properly.\n"
     ]
    }
   ],
   "source": [
    "import matplotlib.pyplot as plt\n",
    "import pandas as pd\n",
    "import splitfolders\n",
    "import numpy as np\n",
    "from tensorflow import keras\n",
    "from tensorflow.keras import layers\n",
    "import tensorflow as tf\n",
    "from keras.preprocessing.image import ImageDataGenerator\n",
    "from keras.models import Sequential\n",
    "from keras.layers import Conv2D, MaxPooling2D\n",
    "from keras.layers import Activation, Dropout, Flatten, Dense\n",
    "from keras import backend as K\n",
    "from keras.models import Sequential\n",
    "from keras.layers import Dense, Conv2D, MaxPool2D , Flatten\n",
    "from keras.preprocessing.image import ImageDataGenerator\n",
    "from tensorflow.keras.utils import array_to_img, img_to_array, load_img\n",
    "import matplotlib.image as mpimg\n",
    "import os"
   ]
  },
  {
   "cell_type": "markdown",
   "metadata": {},
   "source": [
    "fonction pour separer les images en entrainement , test et validation"
   ]
  },
  {
   "cell_type": "code",
   "execution_count": null,
   "metadata": {},
   "outputs": [],
   "source": [
    "\n",
    "splitfolders.ratio(\"DATA/data\",output=\"DATA/brut\",seed=1337, ratio=(.8, .1, .1 ), group_prefix=None, move=False) "
   ]
  },
  {
   "cell_type": "markdown",
   "metadata": {},
   "source": [
    "fonction pour charger des images"
   ]
  },
  {
   "cell_type": "code",
   "execution_count": 3,
   "metadata": {},
   "outputs": [],
   "source": [
    "def load_images(folder):\n",
    "    images = []\n",
    "    imageslabel=[]\n",
    "    for filename1 in os.listdir(\"DATA/\"+folder):\n",
    "        for filename in os.listdir(\"DATA/\"+folder+\"/\"+filename1):\n",
    "            img = mpimg.imread(os.path.join(\"DATA/\"+folder+\"/\"+filename1, filename))\n",
    "            if img.shape !=(28,28):\n",
    "                img=img[:,:,0]\n",
    "            if img is not None:\n",
    "                images.append(img)\n",
    "                imageslabel.append(filename1)\n",
    "    return np.asarray(images),pd.DataFrame(imageslabel)"
   ]
  },
  {
   "cell_type": "markdown",
   "metadata": {},
   "source": [
    "Creation de plusieur models avec plusieur paramettres.\n",
    "Ces derniers qui varient ici sont:\n",
    "1 o,2 ou 3 couche de convolution;\n",
    "les fonction d'activations\n",
    "la valeur d'une des couche  de dense .\n",
    "\n",
    "Les models resultat de la fonction sont toute les combinaisons possibles de ces parametres."
   ]
  },
  {
   "cell_type": "code",
   "execution_count": 4,
   "metadata": {},
   "outputs": [],
   "source": [
    "def testConvcouche(nbf1,nbf2,nbf3,taillekernal):\n",
    "    activations = ['linear', 'relu', 'tanh', 'elu', 'selu']\n",
    "    model = []\n",
    "    param=[]\n",
    "    \n",
    "    for k in range(8):\n",
    "        for i in range (len(activations)):\n",
    "            activation=activations[i]\n",
    "            for j in range(3):\n",
    "                m = Sequential()\n",
    "                m.add(Conv2D(nbf1,kernel_size=taillekernal,padding='same',activation=activation,\n",
    "                        input_shape=(28,28,1)))\n",
    "                m.add(MaxPool2D())\n",
    "                if j>0:\n",
    "                    m.add(Conv2D(nbf2,kernel_size=taillekernal,padding='same',activation=activation))\n",
    "                    m.add(MaxPool2D())\n",
    "                if j>1:\n",
    "                    m.add(Conv2D(nbf3,kernel_size=taillekernal,padding='same',activation=activation))\n",
    "                    m.add(MaxPool2D(padding='same'))\n",
    "                m.add(Flatten())\n",
    "                if k>0:\n",
    "                    m.add(Dense(2**(k+4), activation=activation))\n",
    "                \n",
    "                m.add(Dropout(0.5))\n",
    "                m.add(Dense(10, activation='softmax'))\n",
    "                m.compile(optimizer=\"adam\", loss=\"categorical_crossentropy\", metrics=[\"accuracy\"])\n",
    "                model.append(m)\n",
    "                param.append(\"model_nbconv=\"+str(j)+\"_act=\"+str(activation)+\"_kernal zize=\"+str(taillekernal)+\"dense:=\"+str(2**(k+4))+\"_filt1_2_3=\"+str(nbf1)+\"_\"+str(nbf2)+\"_\"+str(nbf3))\n",
    "    return model ,param"
   ]
  },
  {
   "cell_type": "markdown",
   "metadata": {},
   "source": [
    "chargement des images"
   ]
  },
  {
   "cell_type": "code",
   "execution_count": 34,
   "metadata": {},
   "outputs": [
    {
     "name": "stdout",
     "output_type": "stream",
     "text": [
      "x_train shape: (14974, 28, 28, 1)\n",
      "14974 train samples\n",
      "1880 test samples\n",
      "1870 val samples\n"
     ]
    }
   ],
   "source": [
    "folder=\"brut\"\n",
    "num_classes = 10\n",
    "input_shape = (28, 28, 1)\n",
    "x_train, y_train=load_images(folder+\"/train\")\n",
    "x_val, y_val=load_images(folder+\"/val\")\n",
    "x_test, y_test=load_images(folder+\"/test\")\n",
    "\n",
    "y_test=y_test[0]\n",
    "y_train=y_train[0]\n",
    "y_val=y_val[0]\n",
    "\n",
    "y_test=np.asarray(y_test.apply(lambda x : ord(x)-ord('A')))\n",
    "y_train=np.asarray(y_train.apply(lambda x : ord(x)-ord('A')))\n",
    "y_val=np.asarray(y_val.apply(lambda x : ord(x)-ord('A')))\n",
    "\n",
    "\n",
    "x_train = x_train.astype(\"float32\")\n",
    "x_test = x_test.astype(\"float32\") \n",
    "x_val = x_val.astype(\"float32\")\n",
    "\n",
    "x_train = np.expand_dims(x_train, -1)\n",
    "x_test = np.expand_dims(x_test, -1)\n",
    "x_val = np.expand_dims(x_val, -1)\n",
    "print(\"x_train shape:\", x_train.shape)\n",
    "print(x_train.shape[0], \"train samples\")\n",
    "print(x_test.shape[0], \"test samples\")\n",
    "print(x_val.shape[0], \"val samples\")\n",
    "\n",
    "y_train = keras.utils.to_categorical(y_train, num_classes)\n",
    "y_test = keras.utils.to_categorical(y_test, num_classes)\n",
    "y_val = keras.utils.to_categorical(y_val, num_classes)\n"
   ]
  },
  {
   "cell_type": "markdown",
   "metadata": {},
   "source": [
    "\n"
   ]
  },
  {
   "cell_type": "code",
   "execution_count": 6,
   "metadata": {},
   "outputs": [],
   "source": [
    "img_width, img_height = 28, 28\n",
    "top_model_weights_path = 'poidsNotMnist_A2jdata'+folder+'.h5'\n",
    "train_data_dir = \"DATA/\"+folder+'/train/'\n",
    "validation_data_dir =\"/DATA/\"+folder+'/val/'\n",
    "test_data_dir=\"DATA/\"+folder+'/test/'\n",
    "nb_train_samples = x_train.shape[0],\n",
    "nb_validation_samples = x_val.shape[0]\n",
    "nb_test_samples=x_test.shape[0]"
   ]
  },
  {
   "cell_type": "markdown",
   "metadata": {},
   "source": [
    "Fonction pour tester tout les models et enregistere les resultats dans de chacune dans un ficier csv "
   ]
  },
  {
   "cell_type": "code",
   "execution_count": 15,
   "metadata": {},
   "outputs": [],
   "source": [
    "def execute(folder,epochs,batch_size,nbf1,nbf2,nbf3,taillekernal):\n",
    "    model,param=testConvcouche(nbf1,nbf2,nbf3,taillekernal)\n",
    "    resultatfit=[]\n",
    "    scoretest=[]\n",
    "    print(\"nombre totale de model a tester pour epoch=\"+str(epochs)+\" et de bash size=\"+str(batch_size) +\" \"+str(len(model)))\n",
    "    for i in range (len(model) ):\n",
    "        print(param[i])\n",
    "        result=model[i].fit(x_train, y_train,\n",
    "                epochs=epochs,\n",
    "                batch_size=batch_size,\n",
    "                validation_data=(x_val, y_val))\n",
    "        score = model[i].evaluate(x_test,y_test, verbose=0)\n",
    "        resultatfit.append(result)\n",
    "        scoretest.append(score)\n",
    "    for i in range (len(model)):\n",
    "        scorede=pd.DataFrame(scoretest[i])\n",
    "        scorede.to_csv(\"resultat/\"+param[i]+\"_e=\"+str(epochs)+\"_b=\"+str(batch_size)+\"test.csv\", index=False)\n",
    "        history_df = pd.DataFrame(resultatfit[i].history)\n",
    "        history_df.to_csv(\"resultat/\"+param[i]+\"_e=\"+str(epochs)+\"_b=\"+str(batch_size)+\"entrainement.csv\", index=False)\n",
    "        #model[i].save(param[i]+\"_e=\"+str(epochs)+\"_b=\"+str(batch_size)+'model.h5')"
   ]
  },
  {
   "cell_type": "markdown",
   "metadata": {},
   "source": [
    "lancement des entrainement avec de toute les models avec 20 epoch et bash 16 puis 32 puit 64 "
   ]
  },
  {
   "cell_type": "code",
   "execution_count": 16,
   "metadata": {},
   "outputs": [
    {
     "name": "stdout",
     "output_type": "stream",
     "text": [
      "nombre totale de model a tester pour epoch=20 et de bash size=16 120\n",
      "model_nbconv=0_act=linear_kernal zize=5dense:=16_filt1_2_3=24_48_64\n",
      "Epoch 1/20\n",
      "184/936 [====>.........................] - ETA: 2s - loss: 0.7323 - accuracy: 0.7897"
     ]
    },
    {
     "ename": "KeyboardInterrupt",
     "evalue": "",
     "output_type": "error",
     "traceback": [
      "\u001b[0;31m---------------------------------------------------------------------------\u001b[0m",
      "\u001b[0;31mKeyboardInterrupt\u001b[0m                         Traceback (most recent call last)",
      "Cell \u001b[0;32mIn[16], line 1\u001b[0m\n\u001b[0;32m----> 1\u001b[0m execute(\u001b[39m\"\u001b[39;49m\u001b[39mbrut\u001b[39;49m\u001b[39m\"\u001b[39;49m,\u001b[39m20\u001b[39;49m,\u001b[39m16\u001b[39;49m,\u001b[39m24\u001b[39;49m,\u001b[39m48\u001b[39;49m,\u001b[39m64\u001b[39;49m,\u001b[39m5\u001b[39;49m)\n\u001b[1;32m      2\u001b[0m execute(\u001b[39m\"\u001b[39m\u001b[39mbrut\u001b[39m\u001b[39m\"\u001b[39m,\u001b[39m20\u001b[39m,\u001b[39m32\u001b[39m,\u001b[39m24\u001b[39m,\u001b[39m48\u001b[39m,\u001b[39m64\u001b[39m,\u001b[39m5\u001b[39m)\n\u001b[1;32m      3\u001b[0m execute(\u001b[39m\"\u001b[39m\u001b[39mbrut\u001b[39m\u001b[39m\"\u001b[39m,\u001b[39m20\u001b[39m,\u001b[39m64\u001b[39m,\u001b[39m24\u001b[39m,\u001b[39m48\u001b[39m,\u001b[39m64\u001b[39m,\u001b[39m5\u001b[39m)\n",
      "Cell \u001b[0;32mIn[15], line 8\u001b[0m, in \u001b[0;36mexecute\u001b[0;34m(folder, epochs, batch_size, nbf1, nbf2, nbf3, taillekernal)\u001b[0m\n\u001b[1;32m      6\u001b[0m \u001b[39mfor\u001b[39;00m i \u001b[39min\u001b[39;00m \u001b[39mrange\u001b[39m (\u001b[39mlen\u001b[39m(model) ):\n\u001b[1;32m      7\u001b[0m     \u001b[39mprint\u001b[39m(param[i])\n\u001b[0;32m----> 8\u001b[0m     result\u001b[39m=\u001b[39mmodel[i]\u001b[39m.\u001b[39;49mfit(x_train, y_train,\n\u001b[1;32m      9\u001b[0m             epochs\u001b[39m=\u001b[39;49mepochs,\n\u001b[1;32m     10\u001b[0m             batch_size\u001b[39m=\u001b[39;49mbatch_size,\n\u001b[1;32m     11\u001b[0m             validation_data\u001b[39m=\u001b[39;49m(x_val, y_val))\n\u001b[1;32m     12\u001b[0m     score \u001b[39m=\u001b[39m model[i]\u001b[39m.\u001b[39mevaluate(x_test,y_test, verbose\u001b[39m=\u001b[39m\u001b[39m0\u001b[39m)\n\u001b[1;32m     13\u001b[0m     resultatfit\u001b[39m.\u001b[39mappend(result)\n",
      "File \u001b[0;32m~/.local/lib/python3.10/site-packages/keras/utils/traceback_utils.py:65\u001b[0m, in \u001b[0;36mfilter_traceback.<locals>.error_handler\u001b[0;34m(*args, **kwargs)\u001b[0m\n\u001b[1;32m     63\u001b[0m filtered_tb \u001b[39m=\u001b[39m \u001b[39mNone\u001b[39;00m\n\u001b[1;32m     64\u001b[0m \u001b[39mtry\u001b[39;00m:\n\u001b[0;32m---> 65\u001b[0m     \u001b[39mreturn\u001b[39;00m fn(\u001b[39m*\u001b[39;49margs, \u001b[39m*\u001b[39;49m\u001b[39m*\u001b[39;49mkwargs)\n\u001b[1;32m     66\u001b[0m \u001b[39mexcept\u001b[39;00m \u001b[39mException\u001b[39;00m \u001b[39mas\u001b[39;00m e:\n\u001b[1;32m     67\u001b[0m     filtered_tb \u001b[39m=\u001b[39m _process_traceback_frames(e\u001b[39m.\u001b[39m__traceback__)\n",
      "File \u001b[0;32m~/.local/lib/python3.10/site-packages/keras/engine/training.py:1641\u001b[0m, in \u001b[0;36mModel.fit\u001b[0;34m(self, x, y, batch_size, epochs, verbose, callbacks, validation_split, validation_data, shuffle, class_weight, sample_weight, initial_epoch, steps_per_epoch, validation_steps, validation_batch_size, validation_freq, max_queue_size, workers, use_multiprocessing)\u001b[0m\n\u001b[1;32m   1639\u001b[0m callbacks\u001b[39m.\u001b[39mon_epoch_begin(epoch)\n\u001b[1;32m   1640\u001b[0m \u001b[39mwith\u001b[39;00m data_handler\u001b[39m.\u001b[39mcatch_stop_iteration():\n\u001b[0;32m-> 1641\u001b[0m     \u001b[39mfor\u001b[39;00m step \u001b[39min\u001b[39;00m data_handler\u001b[39m.\u001b[39msteps():\n\u001b[1;32m   1642\u001b[0m         \u001b[39mwith\u001b[39;00m tf\u001b[39m.\u001b[39mprofiler\u001b[39m.\u001b[39mexperimental\u001b[39m.\u001b[39mTrace(\n\u001b[1;32m   1643\u001b[0m             \u001b[39m\"\u001b[39m\u001b[39mtrain\u001b[39m\u001b[39m\"\u001b[39m,\n\u001b[1;32m   1644\u001b[0m             epoch_num\u001b[39m=\u001b[39mepoch,\n\u001b[0;32m   (...)\u001b[0m\n\u001b[1;32m   1647\u001b[0m             _r\u001b[39m=\u001b[39m\u001b[39m1\u001b[39m,\n\u001b[1;32m   1648\u001b[0m         ):\n\u001b[1;32m   1649\u001b[0m             callbacks\u001b[39m.\u001b[39mon_train_batch_begin(step)\n",
      "File \u001b[0;32m~/.local/lib/python3.10/site-packages/keras/engine/data_adapter.py:1371\u001b[0m, in \u001b[0;36mDataHandler.steps\u001b[0;34m(self)\u001b[0m\n\u001b[1;32m   1369\u001b[0m \u001b[39mif\u001b[39;00m \u001b[39mself\u001b[39m\u001b[39m.\u001b[39m_insufficient_data:  \u001b[39m# Set by `catch_stop_iteration`.\u001b[39;00m\n\u001b[1;32m   1370\u001b[0m     \u001b[39mbreak\u001b[39;00m\n\u001b[0;32m-> 1371\u001b[0m original_spe \u001b[39m=\u001b[39m \u001b[39mself\u001b[39;49m\u001b[39m.\u001b[39;49m_steps_per_execution\u001b[39m.\u001b[39;49mnumpy()\u001b[39m.\u001b[39mitem()\n\u001b[1;32m   1372\u001b[0m can_run_full_execution \u001b[39m=\u001b[39m (\n\u001b[1;32m   1373\u001b[0m     original_spe \u001b[39m==\u001b[39m \u001b[39m1\u001b[39m\n\u001b[1;32m   1374\u001b[0m     \u001b[39mor\u001b[39;00m \u001b[39mself\u001b[39m\u001b[39m.\u001b[39m_inferred_steps \u001b[39mis\u001b[39;00m \u001b[39mNone\u001b[39;00m\n\u001b[1;32m   1375\u001b[0m     \u001b[39mor\u001b[39;00m \u001b[39mself\u001b[39m\u001b[39m.\u001b[39m_inferred_steps \u001b[39m-\u001b[39m \u001b[39mself\u001b[39m\u001b[39m.\u001b[39m_current_step \u001b[39m>\u001b[39m\u001b[39m=\u001b[39m original_spe\n\u001b[1;32m   1376\u001b[0m )\n\u001b[1;32m   1378\u001b[0m \u001b[39mif\u001b[39;00m can_run_full_execution:\n",
      "File \u001b[0;32m~/.local/lib/python3.10/site-packages/tensorflow/python/ops/resource_variable_ops.py:639\u001b[0m, in \u001b[0;36mBaseResourceVariable.numpy\u001b[0;34m(self)\u001b[0m\n\u001b[1;32m    637\u001b[0m \u001b[39mdef\u001b[39;00m \u001b[39mnumpy\u001b[39m(\u001b[39mself\u001b[39m):\n\u001b[1;32m    638\u001b[0m   \u001b[39mif\u001b[39;00m context\u001b[39m.\u001b[39mexecuting_eagerly():\n\u001b[0;32m--> 639\u001b[0m     \u001b[39mreturn\u001b[39;00m \u001b[39mself\u001b[39;49m\u001b[39m.\u001b[39;49mread_value()\u001b[39m.\u001b[39mnumpy()\n\u001b[1;32m    640\u001b[0m   \u001b[39mraise\u001b[39;00m \u001b[39mNotImplementedError\u001b[39;00m(\n\u001b[1;32m    641\u001b[0m       \u001b[39m\"\u001b[39m\u001b[39mnumpy() is only available when eager execution is enabled.\u001b[39m\u001b[39m\"\u001b[39m)\n",
      "File \u001b[0;32m~/.local/lib/python3.10/site-packages/tensorflow/python/ops/resource_variable_ops.py:727\u001b[0m, in \u001b[0;36mBaseResourceVariable.read_value\u001b[0;34m(self)\u001b[0m\n\u001b[1;32m    718\u001b[0m \u001b[39m\"\"\"Constructs an op which reads the value of this variable.\u001b[39;00m\n\u001b[1;32m    719\u001b[0m \n\u001b[1;32m    720\u001b[0m \u001b[39mShould be used when there are multiple reads, or when it is desirable to\u001b[39;00m\n\u001b[0;32m   (...)\u001b[0m\n\u001b[1;32m    724\u001b[0m \u001b[39m  The value of the variable.\u001b[39;00m\n\u001b[1;32m    725\u001b[0m \u001b[39m\"\"\"\u001b[39;00m\n\u001b[1;32m    726\u001b[0m \u001b[39mwith\u001b[39;00m ops\u001b[39m.\u001b[39mname_scope(\u001b[39m\"\u001b[39m\u001b[39mRead\u001b[39m\u001b[39m\"\u001b[39m):\n\u001b[0;32m--> 727\u001b[0m   value \u001b[39m=\u001b[39m \u001b[39mself\u001b[39;49m\u001b[39m.\u001b[39;49m_read_variable_op()\n\u001b[1;32m    728\u001b[0m \u001b[39m# Return an identity so it can get placed on whatever device the context\u001b[39;00m\n\u001b[1;32m    729\u001b[0m \u001b[39m# specifies instead of the device where the variable is.\u001b[39;00m\n\u001b[1;32m    730\u001b[0m \u001b[39mreturn\u001b[39;00m array_ops\u001b[39m.\u001b[39midentity(value)\n",
      "File \u001b[0;32m~/.local/lib/python3.10/site-packages/tensorflow/python/ops/resource_variable_ops.py:706\u001b[0m, in \u001b[0;36mBaseResourceVariable._read_variable_op\u001b[0;34m(self, no_copy)\u001b[0m\n\u001b[1;32m    704\u001b[0m       result \u001b[39m=\u001b[39m read_and_set_handle(no_copy)\n\u001b[1;32m    705\u001b[0m \u001b[39melse\u001b[39;00m:\n\u001b[0;32m--> 706\u001b[0m   result \u001b[39m=\u001b[39m read_and_set_handle(no_copy)\n\u001b[1;32m    708\u001b[0m \u001b[39mif\u001b[39;00m \u001b[39mnot\u001b[39;00m context\u001b[39m.\u001b[39mexecuting_eagerly():\n\u001b[1;32m    709\u001b[0m   \u001b[39m# Note that if a control flow context is active the input of the read op\u001b[39;00m\n\u001b[1;32m    710\u001b[0m   \u001b[39m# might not actually be the handle. This line bypasses it.\u001b[39;00m\n\u001b[1;32m    711\u001b[0m   tape\u001b[39m.\u001b[39mrecord_operation(\n\u001b[1;32m    712\u001b[0m       \u001b[39m\"\u001b[39m\u001b[39mReadVariableOp\u001b[39m\u001b[39m\"\u001b[39m, [result], [\u001b[39mself\u001b[39m\u001b[39m.\u001b[39mhandle],\n\u001b[1;32m    713\u001b[0m       backward_function\u001b[39m=\u001b[39m\u001b[39mlambda\u001b[39;00m x: [x],\n\u001b[1;32m    714\u001b[0m       forward_function\u001b[39m=\u001b[39m\u001b[39mlambda\u001b[39;00m x: [x])\n",
      "File \u001b[0;32m~/.local/lib/python3.10/site-packages/tensorflow/python/ops/resource_variable_ops.py:696\u001b[0m, in \u001b[0;36mBaseResourceVariable._read_variable_op.<locals>.read_and_set_handle\u001b[0;34m(no_copy)\u001b[0m\n\u001b[1;32m    694\u001b[0m \u001b[39mif\u001b[39;00m no_copy \u001b[39mand\u001b[39;00m forward_compat\u001b[39m.\u001b[39mforward_compatible(\u001b[39m2022\u001b[39m, \u001b[39m5\u001b[39m, \u001b[39m3\u001b[39m):\n\u001b[1;32m    695\u001b[0m   gen_resource_variable_ops\u001b[39m.\u001b[39mdisable_copy_on_read(\u001b[39mself\u001b[39m\u001b[39m.\u001b[39mhandle)\n\u001b[0;32m--> 696\u001b[0m result \u001b[39m=\u001b[39m gen_resource_variable_ops\u001b[39m.\u001b[39;49mread_variable_op(\n\u001b[1;32m    697\u001b[0m     \u001b[39mself\u001b[39;49m\u001b[39m.\u001b[39;49mhandle, \u001b[39mself\u001b[39;49m\u001b[39m.\u001b[39;49m_dtype)\n\u001b[1;32m    698\u001b[0m _maybe_set_handle_data(\u001b[39mself\u001b[39m\u001b[39m.\u001b[39m_dtype, \u001b[39mself\u001b[39m\u001b[39m.\u001b[39mhandle, result)\n\u001b[1;32m    699\u001b[0m \u001b[39mreturn\u001b[39;00m result\n",
      "File \u001b[0;32m~/.local/lib/python3.10/site-packages/tensorflow/python/ops/gen_resource_variable_ops.py:525\u001b[0m, in \u001b[0;36mread_variable_op\u001b[0;34m(resource, dtype, name)\u001b[0m\n\u001b[1;32m    523\u001b[0m \u001b[39mif\u001b[39;00m tld\u001b[39m.\u001b[39mis_eager:\n\u001b[1;32m    524\u001b[0m   \u001b[39mtry\u001b[39;00m:\n\u001b[0;32m--> 525\u001b[0m     _result \u001b[39m=\u001b[39m pywrap_tfe\u001b[39m.\u001b[39;49mTFE_Py_FastPathExecute(\n\u001b[1;32m    526\u001b[0m       _ctx, \u001b[39m\"\u001b[39;49m\u001b[39mReadVariableOp\u001b[39;49m\u001b[39m\"\u001b[39;49m, name, resource, \u001b[39m\"\u001b[39;49m\u001b[39mdtype\u001b[39;49m\u001b[39m\"\u001b[39;49m, dtype)\n\u001b[1;32m    527\u001b[0m     \u001b[39mreturn\u001b[39;00m _result\n\u001b[1;32m    528\u001b[0m   \u001b[39mexcept\u001b[39;00m _core\u001b[39m.\u001b[39m_NotOkStatusException \u001b[39mas\u001b[39;00m e:\n",
      "\u001b[0;31mKeyboardInterrupt\u001b[0m: "
     ]
    }
   ],
   "source": [
    "\n",
    "execute(\"brut\",20,16,24,48,64,5)\n",
    "execute(\"brut\",20,32,24,48,64,5)\n",
    "execute(\"brut\",20,64,24,48,64,5)\n"
   ]
  },
  {
   "cell_type": "markdown",
   "metadata": {},
   "source": [
    "Recherche du model avec les meilleur resulatat "
   ]
  },
  {
   "cell_type": "markdown",
   "metadata": {},
   "source": [
    "fonction pour generer les non des fichier contenant les resultats"
   ]
  },
  {
   "cell_type": "code",
   "execution_count": 17,
   "metadata": {},
   "outputs": [],
   "source": [
    "def testConvcouche(epochs,batch_size,nbf1,nbf2,nbf3,taillekernal):\n",
    "    activations = ['linear', 'relu', 'tanh', 'elu', 'selu' ]\n",
    "    paramtest=[]\n",
    "    paramtestentrainement=[]\n",
    "    for k in range(8):\n",
    "        for i in range (len(activations)):\n",
    "            activation=activations[i]\n",
    "            for j in range(3):\n",
    "                paramtest.append(\"resultat/\"+\"model_nbconv=\"+str(j)+\"_act=\"+str(activation)+\"_kernal zize=\"+str(taillekernal)+\"dense:=\"+str(2**(k+4))+\"_filt1_2_3=\"+str(nbf1)+\"_\"+str(nbf2)+\"_\"+str(nbf3)+\"_e=\"+str(epochs)+\"_b=\"+str(batch_size)+\"test.csv\")\n",
    "                paramtestentrainement.append(\"resultat/\"+\"model_nbconv=\"+str(j)+\"_act=\"+str(activation)+\"_kernal zize=\"+str(taillekernal)+\"dense:=\"+str(2**(k+4))+\"_filt1_2_3=\"+str(nbf1)+\"_\"+str(nbf2)+\"_\"+str(nbf3)+\"_e=\"+str(epochs)+\"_b=\"+str(batch_size)+\"entrainement.csv\")\n",
    "    return paramtest,paramtestentrainement"
   ]
  },
  {
   "cell_type": "markdown",
   "metadata": {},
   "source": [
    "fonction pour determiner le model qui a les meilleur resultats"
   ]
  },
  {
   "cell_type": "code",
   "execution_count": 18,
   "metadata": {},
   "outputs": [],
   "source": [
    "def best(bash):\n",
    "    filesnamestest,filesnamesentrainement=testConvcouche(20,bash,24,48,64,5)\n",
    "    data=[]\n",
    "    datatest=[]\n",
    "    for i in range(len(filesnamestest)):\n",
    "        df = pd.read_csv(filesnamesentrainement[i], sep=',')\n",
    "        dft = pd.read_csv(filesnamestest[i] )\n",
    "        chiffres = range(0,20)\n",
    "        chiffres = list(chiffres)\n",
    "        df['epoch'] = chiffres\n",
    "        data.append(df)\n",
    "        datatest.append(dft.iloc[1,0])\n",
    "\n",
    "    indexmax= datatest.index(max(datatest))\n",
    "    print(\"model avec les meilleurs resultats: \"+filesnamesentrainement[indexmax]) \n",
    "    print(\"accuracy test: \"+ str(datatest[indexmax]))\n",
    "    print(\"figure de l'apprentissage\")\n",
    "    fig, ax = plt.subplots()\n",
    "    data[indexmax].plot(kind='scatter',x='epoch', y='accuracy', ax=ax)\n",
    "    ax.set_xticks(range(0, 20, 1))\n",
    "    plt.show()\n",
    "\n"
   ]
  },
  {
   "cell_type": "markdown",
   "metadata": {},
   "source": [
    "test avec bach 16"
   ]
  },
  {
   "cell_type": "code",
   "execution_count": 19,
   "metadata": {},
   "outputs": [
    {
     "name": "stdout",
     "output_type": "stream",
     "text": [
      "model avec les meilleurs resultats: resultat/model_nbconv=1_act=relu_kernal zize=5dense:=256_filt1_2_3=24_48_64_e=20_b=16entrainement.csv\n",
      "accuracy test: 0.9505318999290466\n",
      "figure de l'apprentissage\n"
     ]
    },
    {
     "data": {
      "image/png": "[encoded data removed]",
      "text/plain": [
       "<Figure size 640x480 with 1 Axes>"
      ]
     },
     "metadata": {},
     "output_type": "display_data"
    }
   ],
   "source": [
    "best(16)"
   ]
  },
  {
   "cell_type": "markdown",
   "metadata": {},
   "source": [
    "test avec bash =32"
   ]
  },
  {
   "cell_type": "code",
   "execution_count": 19,
   "metadata": {},
   "outputs": [
    {
     "name": "stdout",
     "output_type": "stream",
     "text": [
      "model avec les meilleurs resultats: model_nbconv=2_act=relu_kernal zize=5dense:=16_filt1_2_3=24_48_64_e=20_b=32entrainement.csv\n",
      "accuracy test: 0.9542553424835204\n",
      "figure de l'apprentissage\n"
     ]
    },
    {
     "data": {
      "image/png": "[encoded data removed]",
      "text/plain": [
       "<Figure size 640x480 with 1 Axes>"
      ]
     },
     "metadata": {},
     "output_type": "display_data"
    }
   ],
   "source": [
    "best(32)"
   ]
  },
  {
   "cell_type": "markdown",
   "metadata": {},
   "source": [
    "best for bash =64"
   ]
  },
  {
   "cell_type": "code",
   "execution_count": 20,
   "metadata": {},
   "outputs": [
    {
     "name": "stdout",
     "output_type": "stream",
     "text": [
      "model avec les meilleurs resultats: resultat/model_nbconv=2_act=relu_kernal zize=5dense:=256_filt1_2_3=24_48_64_e=20_b=64entrainement.csv\n",
      "accuracy test: 0.9521276354789734\n",
      "figure de l'apprentissage\n"
     ]
    },
    {
     "data": {
      "image/png": "[encoded data removed]",
      "text/plain": [
       "<Figure size 640x480 with 1 Axes>"
      ]
     },
     "metadata": {},
     "output_type": "display_data"
    }
   ],
   "source": [
    "best(64)"
   ]
  },
  {
   "cell_type": "markdown",
   "metadata": {},
   "source": [
    "celui qui donne le meilleur resultat est \n",
    "\n",
    "\n",
    "model_nbconv=2_act=relu_kernal zize=5dense:=16_filt1_2_3=24_48_64_e=20_b=32model.h5\n",
    "\n",
    "\n",
    "entrainer avec un bash de 32 "
   ]
  },
  {
   "cell_type": "code",
   "execution_count": 21,
   "metadata": {},
   "outputs": [],
   "source": [
    "model = keras.models.load_model('model_nbconv=2_act=relu_kernal zize=5dense:=16_filt1_2_3=24_48_64_e=20_b=32model.h5')"
   ]
  },
  {
   "cell_type": "code",
   "execution_count": 22,
   "metadata": {},
   "outputs": [
    {
     "name": "stdout",
     "output_type": "stream",
     "text": [
      "Model: \"sequential_269\"\n",
      "_________________________________________________________________\n",
      " Layer (type)                Output Shape              Param #   \n",
      "=================================================================\n",
      " conv2d_537 (Conv2D)         (None, 28, 28, 24)        624       \n",
      "                                                                 \n",
      " max_pooling2d_537 (MaxPooli  (None, 14, 14, 24)       0         \n",
      " ng2D)                                                           \n",
      "                                                                 \n",
      " conv2d_538 (Conv2D)         (None, 14, 14, 48)        28848     \n",
      "                                                                 \n",
      " max_pooling2d_538 (MaxPooli  (None, 7, 7, 48)         0         \n",
      " ng2D)                                                           \n",
      "                                                                 \n",
      " conv2d_539 (Conv2D)         (None, 7, 7, 64)          76864     \n",
      "                                                                 \n",
      " max_pooling2d_539 (MaxPooli  (None, 4, 4, 64)         0         \n",
      " ng2D)                                                           \n",
      "                                                                 \n",
      " flatten_269 (Flatten)       (None, 1024)              0         \n",
      "                                                                 \n",
      " dropout_269 (Dropout)       (None, 1024)              0         \n",
      "                                                                 \n",
      " dense_500 (Dense)           (None, 10)                10250     \n",
      "                                                                 \n",
      "=================================================================\n",
      "Total params: 116,586\n",
      "Trainable params: 116,586\n",
      "Non-trainable params: 0\n",
      "_________________________________________________________________\n"
     ]
    }
   ],
   "source": [
    "model.summary()"
   ]
  },
  {
   "cell_type": "code",
   "execution_count": 23,
   "metadata": {},
   "outputs": [
    {
     "name": "stdout",
     "output_type": "stream",
     "text": [
      "Test loss: 0.23253268003463745\n",
      "Test accuracy: 0.9542553424835205\n"
     ]
    }
   ],
   "source": [
    "score = model.evaluate(x_test, y_test, verbose=0)\n",
    "print(\"Test loss:\", score[0])\n",
    "print(\"Test accuracy:\", score[1])"
   ]
  },
  {
   "cell_type": "markdown",
   "metadata": {},
   "source": [
    "augmentation des données avec un gan"
   ]
  },
  {
   "cell_type": "code",
   "execution_count": 24,
   "metadata": {},
   "outputs": [
    {
     "name": "stdout",
     "output_type": "stream",
     "text": [
      "WARNING:tensorflow:No training configuration found in the save file, so the model was *not* compiled. Compile it manually.\n",
      "WARNING:tensorflow:No training configuration found in the save file, so the model was *not* compiled. Compile it manually.\n",
      "WARNING:tensorflow:No training configuration found in the save file, so the model was *not* compiled. Compile it manually.\n",
      "WARNING:tensorflow:No training configuration found in the save file, so the model was *not* compiled. Compile it manually.\n",
      "WARNING:tensorflow:No training configuration found in the save file, so the model was *not* compiled. Compile it manually.\n",
      "WARNING:tensorflow:No training configuration found in the save file, so the model was *not* compiled. Compile it manually.\n",
      "WARNING:tensorflow:No training configuration found in the save file, so the model was *not* compiled. Compile it manually.\n",
      "WARNING:tensorflow:No training configuration found in the save file, so the model was *not* compiled. Compile it manually.\n",
      "WARNING:tensorflow:No training configuration found in the save file, so the model was *not* compiled. Compile it manually.\n",
      "WARNING:tensorflow:No training configuration found in the save file, so the model was *not* compiled. Compile it manually.\n"
     ]
    }
   ],
   "source": [
    "Datafolder=[\"A\",\"B\",\"C\",\"D\",\"E\",\"F\",\"G\",\"H\",\"I\",\"J\"]\n",
    "generateurs=[]\n",
    "for j in range(10):     \n",
    " g=keras.models.load_model(\"gan/generateur\"+Datafolder[j]+\".h5\")\n",
    " generateurs.append(g)"
   ]
  },
  {
   "cell_type": "markdown",
   "metadata": {},
   "source": [
    "generer nb image par lettre"
   ]
  },
  {
   "cell_type": "code",
   "execution_count": 25,
   "metadata": {},
   "outputs": [],
   "source": [
    "def generer(nb,name):\n",
    "    for j in range(10):\n",
    "         for i in range(nb):\n",
    "            noise = tf.random.normal(shape=[1, 100])\n",
    "            generated_images = generateurs[j](noise,1)\n",
    "            images = np.squeeze(generated_images, axis=-1)\n",
    "            for index, image in enumerate(images):\n",
    "                plt.imsave(name+Datafolder[j]+\"/\"+str(i)+\".png\",image, cmap=\"binary\")"
   ]
  },
  {
   "cell_type": "code",
   "execution_count": 34,
   "metadata": {},
   "outputs": [],
   "source": [
    "generer(1000,\"DATA/augmenter/\")"
   ]
  },
  {
   "cell_type": "markdown",
   "metadata": {},
   "source": [
    "splite des données "
   ]
  },
  {
   "cell_type": "code",
   "execution_count": 35,
   "metadata": {},
   "outputs": [
    {
     "name": "stderr",
     "output_type": "stream",
     "text": [
      "Copying files: 28724 files [00:02, 13571.33 files/s]\n"
     ]
    }
   ],
   "source": [
    "\n",
    "splitfolders.ratio(\"DATA/augmenter\",output=\"DATA/test\",seed=1337, ratio=(.8, .1, .1 ), group_prefix=None, move=False) "
   ]
  },
  {
   "cell_type": "markdown",
   "metadata": {},
   "source": [
    "chargement des nouvellles donné"
   ]
  },
  {
   "cell_type": "code",
   "execution_count": 30,
   "metadata": {},
   "outputs": [
    {
     "name": "stdout",
     "output_type": "stream",
     "text": [
      "x_train shape: (35518, 28, 28, 1)\n",
      "35518 train samples\n",
      "6476 test samples\n",
      "6416 val samples\n"
     ]
    }
   ],
   "source": [
    "folder=\"test\"\n",
    "num_classes = 10\n",
    "input_shape = (28, 28, 1)\n",
    "x_train, y_train=load_images(folder+\"/train\")\n",
    "x_val, y_val=load_images(folder+\"/val\")\n",
    "x_test, y_test=load_images(folder+\"/test\")\n",
    "\n",
    "y_test=y_test[0]\n",
    "y_train=y_train[0]\n",
    "y_val=y_val[0]\n",
    "\n",
    "y_test=np.asarray(y_test.apply(lambda x : ord(x)-ord('A')))\n",
    "y_train=np.asarray(y_train.apply(lambda x : ord(x)-ord('A')))\n",
    "y_val=np.asarray(y_val.apply(lambda x : ord(x)-ord('A')))\n",
    "\n",
    "\n",
    "x_train = x_train.astype(\"float32\")\n",
    "x_test = x_test.astype(\"float32\") \n",
    "x_val = x_val.astype(\"float32\")\n",
    "\n",
    "x_train = np.expand_dims(x_train, -1)\n",
    "x_test = np.expand_dims(x_test, -1)\n",
    "x_val = np.expand_dims(x_val, -1)\n",
    "\n",
    "print(\"x_train shape:\", x_train.shape)\n",
    "print(x_train.shape[0], \"train samples\")\n",
    "print(x_test.shape[0], \"test samples\")\n",
    "print(x_val.shape[0], \"val samples\")\n",
    "\n",
    "y_train = keras.utils.to_categorical(y_train, num_classes)\n",
    "y_test = keras.utils.to_categorical(y_test, num_classes)\n",
    "y_val = keras.utils.to_categorical(y_val, num_classes)\n",
    "\n"
   ]
  },
  {
   "cell_type": "markdown",
   "metadata": {},
   "source": [
    "le model qui marche le mieux"
   ]
  },
  {
   "cell_type": "code",
   "execution_count": 31,
   "metadata": {},
   "outputs": [],
   "source": [
    "def entrainement(epochs,batch_size):\n",
    "        m = Sequential()\n",
    "        m.add(Conv2D(24,kernel_size=5,padding='same',activation=\"relu\" ,input_shape=(28,28,1)))\n",
    "        m.add(MaxPool2D())\n",
    "        m.add(Conv2D(48,kernel_size=5,padding='same',activation=\"relu\" ))\n",
    "        m.add(MaxPool2D())\n",
    "        m.add(Conv2D(64,kernel_size=5,padding='same',activation=\"relu\"))\n",
    "        m.add(MaxPool2D(padding='same'))\n",
    "        m.add(Flatten())\n",
    "\n",
    "        m.add(Dropout(0.5))\n",
    "        m.add(Dense(10, activation='softmax'))\n",
    "        m.compile(optimizer=\"adam\", loss=\"categorical_crossentropy\", metrics=[\"accuracy\"])\n",
    "        m.summary()\n",
    "        m.fit(x_train, y_train,\n",
    "                epochs=epochs,  \n",
    "                batch_size=batch_size,\n",
    "                validation_data=(x_val, y_val))\n",
    "        return m\n"
   ]
  },
  {
   "cell_type": "markdown",
   "metadata": {},
   "source": [
    "entrainement du model"
   ]
  },
  {
   "cell_type": "code",
   "execution_count": 32,
   "metadata": {},
   "outputs": [
    {
     "name": "stdout",
     "output_type": "stream",
     "text": [
      "Model: \"sequential_637\"\n",
      "_________________________________________________________________\n",
      " Layer (type)                Output Shape              Param #   \n",
      "=================================================================\n",
      " conv2d_1275 (Conv2D)        (None, 28, 28, 24)        624       \n",
      "                                                                 \n",
      " max_pooling2d_1275 (MaxPool  (None, 14, 14, 24)       0         \n",
      " ing2D)                                                          \n",
      "                                                                 \n",
      " conv2d_1276 (Conv2D)        (None, 14, 14, 48)        28848     \n",
      "                                                                 \n",
      " max_pooling2d_1276 (MaxPool  (None, 7, 7, 48)         0         \n",
      " ing2D)                                                          \n",
      "                                                                 \n",
      " conv2d_1277 (Conv2D)        (None, 7, 7, 64)          76864     \n",
      "                                                                 \n",
      " max_pooling2d_1277 (MaxPool  (None, 4, 4, 64)         0         \n",
      " ing2D)                                                          \n",
      "                                                                 \n",
      " flatten_637 (Flatten)       (None, 1024)              0         \n",
      "                                                                 \n",
      " dropout_636 (Dropout)       (None, 1024)              0         \n",
      "                                                                 \n",
      " dense_1182 (Dense)          (None, 10)                10250     \n",
      "                                                                 \n",
      "=================================================================\n",
      "Total params: 116,586\n",
      "Trainable params: 116,586\n",
      "Non-trainable params: 0\n",
      "_________________________________________________________________\n",
      "Epoch 1/20\n",
      "1110/1110 [==============================] - 13s 11ms/step - loss: 0.4017 - accuracy: 0.8748 - val_loss: 0.1619 - val_accuracy: 0.9531\n",
      "Epoch 2/20\n",
      "1110/1110 [==============================] - 11s 10ms/step - loss: 0.1832 - accuracy: 0.9461 - val_loss: 0.1313 - val_accuracy: 0.9627\n",
      "Epoch 3/20\n",
      "1110/1110 [==============================] - 13s 12ms/step - loss: 0.1488 - accuracy: 0.9548 - val_loss: 0.1147 - val_accuracy: 0.9673\n",
      "Epoch 4/20\n",
      "1110/1110 [==============================] - 13s 12ms/step - loss: 0.1271 - accuracy: 0.9613 - val_loss: 0.0980 - val_accuracy: 0.9705\n",
      "Epoch 5/20\n",
      "1110/1110 [==============================] - 16s 15ms/step - loss: 0.1076 - accuracy: 0.9665 - val_loss: 0.0866 - val_accuracy: 0.9754\n",
      "Epoch 6/20\n",
      "1110/1110 [==============================] - 14s 13ms/step - loss: 0.0973 - accuracy: 0.9702 - val_loss: 0.0818 - val_accuracy: 0.9752\n",
      "Epoch 7/20\n",
      "1110/1110 [==============================] - 13s 12ms/step - loss: 0.0872 - accuracy: 0.9724 - val_loss: 0.0777 - val_accuracy: 0.9758\n",
      "Epoch 8/20\n",
      "1110/1110 [==============================] - 13s 12ms/step - loss: 0.0801 - accuracy: 0.9742 - val_loss: 0.0715 - val_accuracy: 0.9804\n",
      "Epoch 9/20\n",
      "1110/1110 [==============================] - 14s 13ms/step - loss: 0.0720 - accuracy: 0.9766 - val_loss: 0.0709 - val_accuracy: 0.9808\n",
      "Epoch 10/20\n",
      "1110/1110 [==============================] - 14s 13ms/step - loss: 0.0695 - accuracy: 0.9767 - val_loss: 0.0649 - val_accuracy: 0.9816\n",
      "Epoch 11/20\n",
      "1110/1110 [==============================] - 14s 12ms/step - loss: 0.0598 - accuracy: 0.9808 - val_loss: 0.0693 - val_accuracy: 0.9822\n",
      "Epoch 12/20\n",
      "1110/1110 [==============================] - 15s 13ms/step - loss: 0.0560 - accuracy: 0.9813 - val_loss: 0.0704 - val_accuracy: 0.9824\n",
      "Epoch 13/20\n",
      "1110/1110 [==============================] - 14s 13ms/step - loss: 0.0530 - accuracy: 0.9825 - val_loss: 0.0622 - val_accuracy: 0.9843\n",
      "Epoch 14/20\n",
      "1110/1110 [==============================] - 14s 12ms/step - loss: 0.0501 - accuracy: 0.9832 - val_loss: 0.0647 - val_accuracy: 0.9847\n",
      "Epoch 15/20\n",
      "1110/1110 [==============================] - 12s 11ms/step - loss: 0.0508 - accuracy: 0.9842 - val_loss: 0.0749 - val_accuracy: 0.9816\n",
      "Epoch 16/20\n",
      "1110/1110 [==============================] - 14s 13ms/step - loss: 0.0422 - accuracy: 0.9860 - val_loss: 0.0780 - val_accuracy: 0.9825\n",
      "Epoch 17/20\n",
      "1110/1110 [==============================] - 14s 13ms/step - loss: 0.0462 - accuracy: 0.9849 - val_loss: 0.0635 - val_accuracy: 0.9861\n",
      "Epoch 18/20\n",
      "1110/1110 [==============================] - 15s 13ms/step - loss: 0.0425 - accuracy: 0.9860 - val_loss: 0.0720 - val_accuracy: 0.9847\n",
      "Epoch 19/20\n",
      "1110/1110 [==============================] - 11s 10ms/step - loss: 0.0386 - accuracy: 0.9875 - val_loss: 0.0686 - val_accuracy: 0.9864\n",
      "Epoch 20/20\n",
      "1110/1110 [==============================] - 13s 12ms/step - loss: 0.0398 - accuracy: 0.9873 - val_loss: 0.0699 - val_accuracy: 0.9863\n"
     ]
    }
   ],
   "source": [
    "\n",
    "m = entrainement(20,32)"
   ]
  },
  {
   "cell_type": "code",
   "execution_count": 35,
   "metadata": {},
   "outputs": [
    {
     "name": "stdout",
     "output_type": "stream",
     "text": [
      "Test loss: 0.03757686913013458\n",
      "Test accuracy: 0.9893617033958435\n"
     ]
    }
   ],
   "source": [
    "score = m.evaluate(x_test, y_test, verbose=0)\n",
    "print(\"Test loss:\", score[0])\n",
    "print(\"Test accuracy:\", score[1])"
   ]
  },
  {
   "cell_type": "markdown",
   "metadata": {},
   "source": [
    "On aubserve une amelioration de l'accuracy du model"
   ]
  }
 ],
 "metadata": {
  "kernelspec": {
   "display_name": "Python 3.10.6 64-bit",
   "language": "python",
   "name": "python3"
  },
  "language_info": {
   "codemirror_mode": {
    "name": "ipython",
    "version": 3
   },
   "file_extension": ".py",
   "mimetype": "text/x-python",
   "name": "python",
   "nbconvert_exporter": "python",
   "pygments_lexer": "ipython3",
   "version": "3.10.6"
  },
  "orig_nbformat": 4,
  "vscode": {
   "interpreter": {
    "hash": "916dbcbb3f70747c44a77c7bcd40155683ae19c65e1c03b4aa3499c5328201f1"
   }
  }
 },
 "nbformat": 4,
 "nbformat_minor": 2
}
